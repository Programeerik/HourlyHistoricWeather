{
 "cells": [
  {
   "cell_type": "code",
   "execution_count": 244,
   "metadata": {
    "ExecuteTime": {
     "end_time": "2021-05-27T14:42:07.285913Z",
     "start_time": "2021-05-27T14:42:07.266898Z"
    }
   },
   "outputs": [],
   "source": [
    "import pandas as pd\n",
    "from math import sin, cos, sqrt, atan2, radians, floor\n",
    "import datetime as dt\n",
    "import knmi\n",
    "import requests\n",
    "import scipy.optimize\n",
    "import pylab\n",
    "import tqdm\n",
    "\n",
    "import warnings\n",
    "from scipy.optimize import OptimizeWarning\n",
    "warnings.simplefilter(\"ignore\", OptimizeWarning)"
   ]
  },
  {
   "cell_type": "code",
   "execution_count": 36,
   "metadata": {
    "ExecuteTime": {
     "end_time": "2021-05-27T12:59:42.972170Z",
     "start_time": "2021-05-27T12:59:42.968166Z"
    }
   },
   "outputs": [],
   "source": [
    "\n",
    "def _calculate_distance(lat1: float, lon1: float, lat2: float, lon2: float) -> float:\n",
    "    # Approximate radius of earth in km\n",
    "    radius = 6373.0\n",
    "\n",
    "    lat1 = radians(lat1)\n",
    "    lon1 = radians(lon1)\n",
    "    lat2 = radians(lat2)\n",
    "    lon2 = radians(lon2)\n",
    "\n",
    "    difference_lon = lon2 - lon1\n",
    "    difference_lat = lat2 - lat1\n",
    "\n",
    "    # Haversine formula\n",
    "    arcsin = sin(difference_lat / 2)**2 + cos(lat1) * cos(lat2) * sin(difference_lon / 2)**2\n",
    "    haversine = 2 * atan2(sqrt(arcsin), sqrt(1 - arcsin))\n",
    "\n",
    "    return radius * haversine"
   ]
  },
  {
   "cell_type": "code",
   "execution_count": 37,
   "metadata": {
    "ExecuteTime": {
     "end_time": "2021-05-27T12:59:43.139343Z",
     "start_time": "2021-05-27T12:59:43.136341Z"
    }
   },
   "outputs": [],
   "source": [
    "\n",
    "def _get_stationinfo() -> None:\n",
    "    \"\"\"Get the station positional data\"\"\"\n",
    "    return pd.read_csv('measuringstations.csv')\n"
   ]
  },
  {
   "cell_type": "code",
   "execution_count": 44,
   "metadata": {
    "ExecuteTime": {
     "end_time": "2021-05-27T13:02:11.686943Z",
     "start_time": "2021-05-27T13:02:11.682935Z"
    }
   },
   "outputs": [],
   "source": [
    "def _get_closest_stations(lon:float, lat:float, N:int=3) -> pd.DataFrame:\n",
    "    \"\"\"Calculate the closest N stations to a given coordinate set\"\"\"\n",
    "\n",
    "    df = _get_stationinfo()\n",
    "    df['distance'] = df.apply(lambda row: _calculate_distance(lat, lon, row['LAT'], row['LON']), axis=1)\n",
    "    df.sort_values('distance', inplace=True)\n",
    "\n",
    "    return df.head(N)"
   ]
  },
  {
   "cell_type": "markdown",
   "metadata": {},
   "source": [
    "## Input parameters"
   ]
  },
  {
   "cell_type": "code",
   "execution_count": 83,
   "metadata": {
    "ExecuteTime": {
     "end_time": "2021-05-27T13:21:41.345915Z",
     "start_time": "2021-05-27T13:21:41.339929Z"
    }
   },
   "outputs": [],
   "source": [
    "x = dt.datetime(2019,1,1)\n",
    "y = dt.datetime.now()\n",
    "\n",
    "lat, lon = 52.5012462,6.0789505\n",
    "\n",
    "baseurl = 'https://cdn.knmi.nl/knmi/map/page/klimatologie/gegevens/uurgegevens/uurgeg_{0}_{1}-{2}.zip'"
   ]
  },
  {
   "cell_type": "code",
   "execution_count": 249,
   "metadata": {
    "ExecuteTime": {
     "end_time": "2021-05-27T14:47:43.988619Z",
     "start_time": "2021-05-27T14:47:43.983614Z"
    }
   },
   "outputs": [],
   "source": [
    "metrics = ['T', 'FH', 'DD', 'Q', 'DR', 'RH', 'N', 'U']"
   ]
  },
  {
   "cell_type": "code",
   "execution_count": 76,
   "metadata": {
    "ExecuteTime": {
     "end_time": "2021-05-27T13:15:23.980602Z",
     "start_time": "2021-05-27T13:15:23.976603Z"
    }
   },
   "outputs": [],
   "source": [
    "headerline = ['STN', 'YYYYMMDD', 'HH', 'DD', 'FH', 'FF', 'FX', 'T', 'T10N', 'TD',\n",
    "       'SQ', 'Q', 'DR', 'RH', 'P', 'VV', 'N', 'U', 'WW', 'IX', 'M', 'R', 'S',\n",
    "       'O', 'Y']"
   ]
  },
  {
   "cell_type": "code",
   "execution_count": 250,
   "metadata": {
    "ExecuteTime": {
     "end_time": "2021-05-27T14:47:55.858478Z",
     "start_time": "2021-05-27T14:47:55.842481Z"
    }
   },
   "outputs": [],
   "source": [
    "df_closest_stations = get_closest_stations(lon, lat)"
   ]
  },
  {
   "cell_type": "code",
   "execution_count": null,
   "metadata": {
    "ExecuteTime": {
     "end_time": "2021-05-27T13:17:15.020931Z",
     "start_time": "2021-05-27T13:17:14.430933Z"
    }
   },
   "outputs": [],
   "source": []
  },
  {
   "cell_type": "code",
   "execution_count": 251,
   "metadata": {
    "ExecuteTime": {
     "end_time": "2021-05-27T14:47:56.238179Z",
     "start_time": "2021-05-27T14:47:56.230177Z"
    }
   },
   "outputs": [],
   "source": [
    "def get_station_weather(stn:int):\n",
    "    \n",
    "    df_2010s = get_station_year_weather(stn, 2011, 2020)\n",
    "    df_2020s = get_station_year_weather(stn, 2021, 2030)\n",
    "    \n",
    "    return pd.concat([df_2010s, df_2020s])\n",
    "\n",
    "def get_station_year_weather(stn:int, lower_year:int, upper_year:int):\n",
    "    \n",
    "    url = baseurl.format(stn, lower_year, upper_year)\n",
    "    \n",
    "    df = pd.read_csv(url, comment=\"#\", skiprows=30, skip_blank_lines=True, names=headerline)\n",
    "    \n",
    "\n",
    "    for metric in metrics:\n",
    "        df[metric] = pd.to_numeric(df[metric], errors='coerce')\n",
    "    \n",
    "    \n",
    "    df['T'] = df['T'] / 10 # Temperature in decimal\n",
    "    df['FH'] = df['FH'] / 10 # .. in decimal\n",
    "    #df['P'] = df['P'] / 10 # Pressure in decimal\n",
    "    \n",
    "    return df\n",
    "\n",
    "def get_all_station_weather(df_stations:pd.DataFrame):\n",
    "    \n",
    "    df = pd.DataFrame()\n",
    "    \n",
    "    for stn in df_closest_stations['STN'].unique():\n",
    "        \n",
    "        df_station = get_station_weather(stn)\n",
    "        df = pd.concat([df, df_station])\n",
    "        \n",
    "    return df\n",
    "\n",
    "def _fit_metric(df_for_fit:pd.DataFrame, lon:float, lat:float, metric:str) -> float:\n",
    "    \"\"\"Fit the windspeed for a single timestamp. \n",
    "    Requires a set of station in df_for_fit and a target location (lon, lat)\"\"\"\n",
    "    \n",
    "    # Model for a linear plane\n",
    "    def f(X, a, b, c):\n",
    "        return a*X[:,0] + b*X[:, 1] + c\n",
    "\n",
    "    # Select the X & Y for the temperature\n",
    "    x = df_for_fit[['LON', 'LAT']].values\n",
    "    y = df_for_fit[metric].values\n",
    "\n",
    "    # Do the actual fit\n",
    "    popt, _ = scipy.optimize.curve_fit(f, x, y)\n",
    "\n",
    "    # Temperature in Zwolle\n",
    "    return f(np.array([[lon, lat]]), popt[0], popt[1], popt[2])"
   ]
  },
  {
   "cell_type": "code",
   "execution_count": 261,
   "metadata": {
    "ExecuteTime": {
     "end_time": "2021-05-27T14:51:25.154338Z",
     "start_time": "2021-05-27T14:51:17.022004Z"
    }
   },
   "outputs": [],
   "source": [
    "df_combined = get_all_station_weather(df_closest_stations)\n",
    "\n",
    "df_combined = df_combined.loc[df_combined['YYYYMMDD'] > 20200000]\n",
    "\n",
    "datetime_combinations = df_combined[['YYYYMMDD', 'HH']].drop_duplicates()\n",
    "\n",
    "datetime_combinations.index = range(datetime_combinations.shape[0])"
   ]
  },
  {
   "cell_type": "code",
   "execution_count": 262,
   "metadata": {
    "ExecuteTime": {
     "end_time": "2021-05-27T14:51:25.190340Z",
     "start_time": "2021-05-27T14:51:25.155340Z"
    }
   },
   "outputs": [
    {
     "data": {
      "text/html": [
       "<div>\n",
       "<style scoped>\n",
       "    .dataframe tbody tr th:only-of-type {\n",
       "        vertical-align: middle;\n",
       "    }\n",
       "\n",
       "    .dataframe tbody tr th {\n",
       "        vertical-align: top;\n",
       "    }\n",
       "\n",
       "    .dataframe thead th {\n",
       "        text-align: right;\n",
       "    }\n",
       "</style>\n",
       "<table border=\"1\" class=\"dataframe tex2jax_ignore\">\n",
       "  <thead>\n",
       "    <tr style=\"text-align: right;\">\n",
       "      <th></th>\n",
       "      <th>STN</th>\n",
       "      <th>YYYYMMDD</th>\n",
       "      <th>HH</th>\n",
       "      <th>DD</th>\n",
       "      <th>FH</th>\n",
       "      <th>FF</th>\n",
       "      <th>FX</th>\n",
       "      <th>T</th>\n",
       "      <th>T10N</th>\n",
       "      <th>TD</th>\n",
       "      <th>SQ</th>\n",
       "      <th>Q</th>\n",
       "      <th>DR</th>\n",
       "      <th>RH</th>\n",
       "      <th>P</th>\n",
       "      <th>VV</th>\n",
       "      <th>N</th>\n",
       "      <th>U</th>\n",
       "      <th>WW</th>\n",
       "      <th>IX</th>\n",
       "      <th>M</th>\n",
       "      <th>R</th>\n",
       "      <th>S</th>\n",
       "      <th>O</th>\n",
       "      <th>Y</th>\n",
       "    </tr>\n",
       "  </thead>\n",
       "  <tbody>\n",
       "    <tr>\n",
       "      <th>78888</th>\n",
       "      <td>278</td>\n",
       "      <td>20200101</td>\n",
       "      <td>1</td>\n",
       "      <td>140</td>\n",
       "      <td>1.0</td>\n",
       "      <td>10</td>\n",
       "      <td>30</td>\n",
       "      <td>2.1</td>\n",
       "      <td></td>\n",
       "      <td>21</td>\n",
       "      <td>0</td>\n",
       "      <td>0</td>\n",
       "      <td>0</td>\n",
       "      <td>0</td>\n",
       "      <td></td>\n",
       "      <td></td>\n",
       "      <td>NaN</td>\n",
       "      <td>100</td>\n",
       "      <td></td>\n",
       "      <td>6</td>\n",
       "      <td></td>\n",
       "      <td></td>\n",
       "      <td></td>\n",
       "      <td></td>\n",
       "      <td></td>\n",
       "    </tr>\n",
       "    <tr>\n",
       "      <th>78889</th>\n",
       "      <td>278</td>\n",
       "      <td>20200101</td>\n",
       "      <td>2</td>\n",
       "      <td>150</td>\n",
       "      <td>2.0</td>\n",
       "      <td>10</td>\n",
       "      <td>30</td>\n",
       "      <td>1.7</td>\n",
       "      <td></td>\n",
       "      <td>17</td>\n",
       "      <td>0</td>\n",
       "      <td>0</td>\n",
       "      <td>0</td>\n",
       "      <td>0</td>\n",
       "      <td></td>\n",
       "      <td></td>\n",
       "      <td>NaN</td>\n",
       "      <td>100</td>\n",
       "      <td></td>\n",
       "      <td>6</td>\n",
       "      <td></td>\n",
       "      <td></td>\n",
       "      <td></td>\n",
       "      <td></td>\n",
       "      <td></td>\n",
       "    </tr>\n",
       "    <tr>\n",
       "      <th>78890</th>\n",
       "      <td>278</td>\n",
       "      <td>20200101</td>\n",
       "      <td>3</td>\n",
       "      <td>170</td>\n",
       "      <td>2.0</td>\n",
       "      <td>20</td>\n",
       "      <td>40</td>\n",
       "      <td>1.2</td>\n",
       "      <td></td>\n",
       "      <td>12</td>\n",
       "      <td>0</td>\n",
       "      <td>0</td>\n",
       "      <td>0</td>\n",
       "      <td>0</td>\n",
       "      <td></td>\n",
       "      <td></td>\n",
       "      <td>NaN</td>\n",
       "      <td>100</td>\n",
       "      <td></td>\n",
       "      <td>6</td>\n",
       "      <td></td>\n",
       "      <td></td>\n",
       "      <td></td>\n",
       "      <td></td>\n",
       "      <td></td>\n",
       "    </tr>\n",
       "    <tr>\n",
       "      <th>78891</th>\n",
       "      <td>278</td>\n",
       "      <td>20200101</td>\n",
       "      <td>4</td>\n",
       "      <td>150</td>\n",
       "      <td>2.0</td>\n",
       "      <td>10</td>\n",
       "      <td>40</td>\n",
       "      <td>0.6</td>\n",
       "      <td></td>\n",
       "      <td>6</td>\n",
       "      <td>0</td>\n",
       "      <td>0</td>\n",
       "      <td>0</td>\n",
       "      <td>0</td>\n",
       "      <td></td>\n",
       "      <td></td>\n",
       "      <td>NaN</td>\n",
       "      <td>100</td>\n",
       "      <td></td>\n",
       "      <td>6</td>\n",
       "      <td></td>\n",
       "      <td></td>\n",
       "      <td></td>\n",
       "      <td></td>\n",
       "      <td></td>\n",
       "    </tr>\n",
       "    <tr>\n",
       "      <th>78892</th>\n",
       "      <td>278</td>\n",
       "      <td>20200101</td>\n",
       "      <td>5</td>\n",
       "      <td>130</td>\n",
       "      <td>2.0</td>\n",
       "      <td>20</td>\n",
       "      <td>30</td>\n",
       "      <td>0.5</td>\n",
       "      <td></td>\n",
       "      <td>5</td>\n",
       "      <td>0</td>\n",
       "      <td>0</td>\n",
       "      <td>0</td>\n",
       "      <td>0</td>\n",
       "      <td></td>\n",
       "      <td></td>\n",
       "      <td>NaN</td>\n",
       "      <td>100</td>\n",
       "      <td></td>\n",
       "      <td>6</td>\n",
       "      <td></td>\n",
       "      <td></td>\n",
       "      <td></td>\n",
       "      <td></td>\n",
       "      <td></td>\n",
       "    </tr>\n",
       "    <tr>\n",
       "      <th>...</th>\n",
       "      <td>...</td>\n",
       "      <td>...</td>\n",
       "      <td>...</td>\n",
       "      <td>...</td>\n",
       "      <td>...</td>\n",
       "      <td>...</td>\n",
       "      <td>...</td>\n",
       "      <td>...</td>\n",
       "      <td>...</td>\n",
       "      <td>...</td>\n",
       "      <td>...</td>\n",
       "      <td>...</td>\n",
       "      <td>...</td>\n",
       "      <td>...</td>\n",
       "      <td>...</td>\n",
       "      <td>...</td>\n",
       "      <td>...</td>\n",
       "      <td>...</td>\n",
       "      <td>...</td>\n",
       "      <td>...</td>\n",
       "      <td>...</td>\n",
       "      <td>...</td>\n",
       "      <td>...</td>\n",
       "      <td>...</td>\n",
       "      <td>...</td>\n",
       "    </tr>\n",
       "    <tr>\n",
       "      <th>3499</th>\n",
       "      <td>269</td>\n",
       "      <td>20210526</td>\n",
       "      <td>20</td>\n",
       "      <td>270</td>\n",
       "      <td>5.0</td>\n",
       "      <td>60</td>\n",
       "      <td>90</td>\n",
       "      <td>11.0</td>\n",
       "      <td></td>\n",
       "      <td>94</td>\n",
       "      <td>0</td>\n",
       "      <td>1</td>\n",
       "      <td>0</td>\n",
       "      <td>-1</td>\n",
       "      <td>10118</td>\n",
       "      <td>70</td>\n",
       "      <td>8.0</td>\n",
       "      <td>89</td>\n",
       "      <td>22</td>\n",
       "      <td>7</td>\n",
       "      <td>0</td>\n",
       "      <td>1</td>\n",
       "      <td>0</td>\n",
       "      <td>0</td>\n",
       "      <td>0</td>\n",
       "    </tr>\n",
       "    <tr>\n",
       "      <th>3500</th>\n",
       "      <td>269</td>\n",
       "      <td>20210526</td>\n",
       "      <td>21</td>\n",
       "      <td>270</td>\n",
       "      <td>6.0</td>\n",
       "      <td>60</td>\n",
       "      <td>100</td>\n",
       "      <td>11.0</td>\n",
       "      <td></td>\n",
       "      <td>96</td>\n",
       "      <td>0</td>\n",
       "      <td>0</td>\n",
       "      <td>0</td>\n",
       "      <td>-1</td>\n",
       "      <td>10120</td>\n",
       "      <td>63</td>\n",
       "      <td>8.0</td>\n",
       "      <td>91</td>\n",
       "      <td>51</td>\n",
       "      <td>7</td>\n",
       "      <td>0</td>\n",
       "      <td>1</td>\n",
       "      <td>0</td>\n",
       "      <td>0</td>\n",
       "      <td>0</td>\n",
       "    </tr>\n",
       "    <tr>\n",
       "      <th>3501</th>\n",
       "      <td>269</td>\n",
       "      <td>20210526</td>\n",
       "      <td>22</td>\n",
       "      <td>280</td>\n",
       "      <td>7.0</td>\n",
       "      <td>60</td>\n",
       "      <td>120</td>\n",
       "      <td>10.6</td>\n",
       "      <td></td>\n",
       "      <td>96</td>\n",
       "      <td>0</td>\n",
       "      <td>0</td>\n",
       "      <td>9</td>\n",
       "      <td>9</td>\n",
       "      <td>10124</td>\n",
       "      <td>60</td>\n",
       "      <td>8.0</td>\n",
       "      <td>93</td>\n",
       "      <td>57</td>\n",
       "      <td>7</td>\n",
       "      <td>0</td>\n",
       "      <td>1</td>\n",
       "      <td>0</td>\n",
       "      <td>0</td>\n",
       "      <td>0</td>\n",
       "    </tr>\n",
       "    <tr>\n",
       "      <th>3502</th>\n",
       "      <td>269</td>\n",
       "      <td>20210526</td>\n",
       "      <td>23</td>\n",
       "      <td>280</td>\n",
       "      <td>6.0</td>\n",
       "      <td>60</td>\n",
       "      <td>110</td>\n",
       "      <td>10.1</td>\n",
       "      <td></td>\n",
       "      <td>92</td>\n",
       "      <td>0</td>\n",
       "      <td>0</td>\n",
       "      <td>10</td>\n",
       "      <td>32</td>\n",
       "      <td>10126</td>\n",
       "      <td>61</td>\n",
       "      <td>8.0</td>\n",
       "      <td>94</td>\n",
       "      <td>61</td>\n",
       "      <td>7</td>\n",
       "      <td>0</td>\n",
       "      <td>1</td>\n",
       "      <td>0</td>\n",
       "      <td>0</td>\n",
       "      <td>0</td>\n",
       "    </tr>\n",
       "    <tr>\n",
       "      <th>3503</th>\n",
       "      <td>269</td>\n",
       "      <td>20210526</td>\n",
       "      <td>24</td>\n",
       "      <td>270</td>\n",
       "      <td>6.0</td>\n",
       "      <td>60</td>\n",
       "      <td>90</td>\n",
       "      <td>9.9</td>\n",
       "      <td>96</td>\n",
       "      <td>91</td>\n",
       "      <td>0</td>\n",
       "      <td>0</td>\n",
       "      <td>10</td>\n",
       "      <td>9</td>\n",
       "      <td>10127</td>\n",
       "      <td>59</td>\n",
       "      <td>8.0</td>\n",
       "      <td>94</td>\n",
       "      <td>61</td>\n",
       "      <td>7</td>\n",
       "      <td>0</td>\n",
       "      <td>1</td>\n",
       "      <td>0</td>\n",
       "      <td>0</td>\n",
       "      <td>0</td>\n",
       "    </tr>\n",
       "  </tbody>\n",
       "</table>\n",
       "<p>36864 rows × 25 columns</p>\n",
       "</div>"
      ],
      "text/plain": [
       "       STN  YYYYMMDD  HH   DD   FH  FF   FX     T   T10N  TD  SQ  Q  DR  RH  \\\n",
       "78888  278  20200101   1  140  1.0  10   30   2.1         21   0  0   0   0   \n",
       "78889  278  20200101   2  150  2.0  10   30   1.7         17   0  0   0   0   \n",
       "78890  278  20200101   3  170  2.0  20   40   1.2         12   0  0   0   0   \n",
       "78891  278  20200101   4  150  2.0  10   40   0.6          6   0  0   0   0   \n",
       "78892  278  20200101   5  130  2.0  20   30   0.5          5   0  0   0   0   \n",
       "...    ...       ...  ..  ...  ...  ..  ...   ...    ...  ..  .. ..  ..  ..   \n",
       "3499   269  20210526  20  270  5.0  60   90  11.0         94   0  1   0  -1   \n",
       "3500   269  20210526  21  270  6.0  60  100  11.0         96   0  0   0  -1   \n",
       "3501   269  20210526  22  280  7.0  60  120  10.6         96   0  0   9   9   \n",
       "3502   269  20210526  23  280  6.0  60  110  10.1         92   0  0  10  32   \n",
       "3503   269  20210526  24  270  6.0  60   90   9.9     96  91   0  0  10   9   \n",
       "\n",
       "           P     VV    N    U     WW  IX      M      R      S      O      Y  \n",
       "78888                NaN  100          6                                     \n",
       "78889                NaN  100          6                                     \n",
       "78890                NaN  100          6                                     \n",
       "78891                NaN  100          6                                     \n",
       "78892                NaN  100          6                                     \n",
       "...      ...    ...  ...  ...    ...  ..    ...    ...    ...    ...    ...  \n",
       "3499   10118     70  8.0   89     22   7      0      1      0      0      0  \n",
       "3500   10120     63  8.0   91     51   7      0      1      0      0      0  \n",
       "3501   10124     60  8.0   93     57   7      0      1      0      0      0  \n",
       "3502   10126     61  8.0   94     61   7      0      1      0      0      0  \n",
       "3503   10127     59  8.0   94     61   7      0      1      0      0      0  \n",
       "\n",
       "[36864 rows x 25 columns]"
      ]
     },
     "execution_count": 262,
     "metadata": {},
     "output_type": "execute_result"
    }
   ],
   "source": [
    "df_combined"
   ]
  },
  {
   "cell_type": "code",
   "execution_count": 263,
   "metadata": {
    "ExecuteTime": {
     "end_time": "2021-05-27T14:57:50.519419Z",
     "start_time": "2021-05-27T14:51:25.192343Z"
    }
   },
   "outputs": [
    {
     "name": "stderr",
     "output_type": "stream",
     "text": [
      "100%|█████████████████████████████████████████████████████████████████████████████████████████████████████████████████████████████████████████████████████████████████████████████████████| 12288/12288 [06:25<00:00, 31.89it/s]\n"
     ]
    },
    {
     "data": {
      "text/html": [
       "<div>\n",
       "<style scoped>\n",
       "    .dataframe tbody tr th:only-of-type {\n",
       "        vertical-align: middle;\n",
       "    }\n",
       "\n",
       "    .dataframe tbody tr th {\n",
       "        vertical-align: top;\n",
       "    }\n",
       "\n",
       "    .dataframe thead th {\n",
       "        text-align: right;\n",
       "    }\n",
       "</style>\n",
       "<table border=\"1\" class=\"dataframe tex2jax_ignore\">\n",
       "  <thead>\n",
       "    <tr style=\"text-align: right;\">\n",
       "      <th></th>\n",
       "      <th>YYYYMMDD</th>\n",
       "      <th>HH</th>\n",
       "      <th>datetime</th>\n",
       "      <th>T</th>\n",
       "      <th>FH</th>\n",
       "      <th>DD</th>\n",
       "      <th>Q</th>\n",
       "      <th>DR</th>\n",
       "      <th>RH</th>\n",
       "      <th>U</th>\n",
       "    </tr>\n",
       "  </thead>\n",
       "  <tbody>\n",
       "    <tr>\n",
       "      <th>0</th>\n",
       "      <td>20200101</td>\n",
       "      <td>1</td>\n",
       "      <td>2020-01-01 00:00:00</td>\n",
       "      <td>2.179416</td>\n",
       "      <td>1.236466</td>\n",
       "      <td>144.461585</td>\n",
       "      <td>7.139165e-318</td>\n",
       "      <td>7.139165e-318</td>\n",
       "      <td>7.139165e-318</td>\n",
       "      <td>99.402142</td>\n",
       "    </tr>\n",
       "    <tr>\n",
       "      <th>0</th>\n",
       "      <td>20200101</td>\n",
       "      <td>2</td>\n",
       "      <td>2020-01-01 01:00:00</td>\n",
       "      <td>1.654490</td>\n",
       "      <td>2.000000</td>\n",
       "      <td>144.869076</td>\n",
       "      <td>7.139165e-318</td>\n",
       "      <td>7.139165e-318</td>\n",
       "      <td>7.139165e-318</td>\n",
       "      <td>99.402142</td>\n",
       "    </tr>\n",
       "    <tr>\n",
       "      <th>0</th>\n",
       "      <td>20200101</td>\n",
       "      <td>3</td>\n",
       "      <td>2020-01-01 02:00:00</td>\n",
       "      <td>1.290570</td>\n",
       "      <td>2.124926</td>\n",
       "      <td>165.270680</td>\n",
       "      <td>7.139165e-318</td>\n",
       "      <td>7.139165e-318</td>\n",
       "      <td>7.139165e-318</td>\n",
       "      <td>99.638608</td>\n",
       "    </tr>\n",
       "    <tr>\n",
       "      <th>0</th>\n",
       "      <td>20200101</td>\n",
       "      <td>4</td>\n",
       "      <td>2020-01-01 03:00:00</td>\n",
       "      <td>0.933730</td>\n",
       "      <td>2.361392</td>\n",
       "      <td>148.884604</td>\n",
       "      <td>7.139165e-318</td>\n",
       "      <td>7.139165e-318</td>\n",
       "      <td>7.139165e-318</td>\n",
       "      <td>99.638608</td>\n",
       "    </tr>\n",
       "    <tr>\n",
       "      <th>0</th>\n",
       "      <td>20200101</td>\n",
       "      <td>5</td>\n",
       "      <td>2020-01-01 04:00:00</td>\n",
       "      <td>0.823914</td>\n",
       "      <td>2.361392</td>\n",
       "      <td>138.477112</td>\n",
       "      <td>7.139165e-318</td>\n",
       "      <td>7.139165e-318</td>\n",
       "      <td>7.139165e-318</td>\n",
       "      <td>99.277215</td>\n",
       "    </tr>\n",
       "    <tr>\n",
       "      <th>...</th>\n",
       "      <td>...</td>\n",
       "      <td>...</td>\n",
       "      <td>...</td>\n",
       "      <td>...</td>\n",
       "      <td>...</td>\n",
       "      <td>...</td>\n",
       "      <td>...</td>\n",
       "      <td>...</td>\n",
       "      <td>...</td>\n",
       "      <td>...</td>\n",
       "    </tr>\n",
       "    <tr>\n",
       "      <th>0</th>\n",
       "      <td>20210526</td>\n",
       "      <td>20</td>\n",
       "      <td>2021-05-26 19:00:00</td>\n",
       "      <td>10.609756</td>\n",
       "      <td>4.361392</td>\n",
       "      <td>272.364660</td>\n",
       "      <td>1.000000e+00</td>\n",
       "      <td>7.473521e+00</td>\n",
       "      <td>3.044017e+00</td>\n",
       "      <td>91.625221</td>\n",
       "    </tr>\n",
       "    <tr>\n",
       "      <th>0</th>\n",
       "      <td>20210526</td>\n",
       "      <td>21</td>\n",
       "      <td>2021-05-26 20:00:00</td>\n",
       "      <td>10.434742</td>\n",
       "      <td>4.249853</td>\n",
       "      <td>265.978584</td>\n",
       "      <td>7.139165e-318</td>\n",
       "      <td>8.750736e+00</td>\n",
       "      <td>8.577620e+00</td>\n",
       "      <td>94.500294</td>\n",
       "    </tr>\n",
       "    <tr>\n",
       "      <th>0</th>\n",
       "      <td>20210526</td>\n",
       "      <td>22</td>\n",
       "      <td>2021-05-26 21:00:00</td>\n",
       "      <td>10.401339</td>\n",
       "      <td>4.847711</td>\n",
       "      <td>275.978584</td>\n",
       "      <td>7.139165e-318</td>\n",
       "      <td>9.875074e+00</td>\n",
       "      <td>2.023438e+01</td>\n",
       "      <td>93.875074</td>\n",
       "    </tr>\n",
       "    <tr>\n",
       "      <th>0</th>\n",
       "      <td>20210526</td>\n",
       "      <td>23</td>\n",
       "      <td>2021-05-26 22:00:00</td>\n",
       "      <td>10.140214</td>\n",
       "      <td>4.722785</td>\n",
       "      <td>282.364660</td>\n",
       "      <td>7.139165e-318</td>\n",
       "      <td>1.000000e+01</td>\n",
       "      <td>1.738431e+01</td>\n",
       "      <td>94.000000</td>\n",
       "    </tr>\n",
       "    <tr>\n",
       "      <th>0</th>\n",
       "      <td>20210526</td>\n",
       "      <td>24</td>\n",
       "      <td>2021-05-26 23:00:00</td>\n",
       "      <td>9.883432</td>\n",
       "      <td>4.486319</td>\n",
       "      <td>272.364660</td>\n",
       "      <td>7.139165e-318</td>\n",
       "      <td>8.344738e+00</td>\n",
       "      <td>7.746879e+00</td>\n",
       "      <td>93.763534</td>\n",
       "    </tr>\n",
       "  </tbody>\n",
       "</table>\n",
       "<p>12288 rows × 10 columns</p>\n",
       "</div>"
      ],
      "text/plain": [
       "    YYYYMMDD  HH            datetime          T        FH          DD  \\\n",
       "0   20200101   1 2020-01-01 00:00:00   2.179416  1.236466  144.461585   \n",
       "0   20200101   2 2020-01-01 01:00:00   1.654490  2.000000  144.869076   \n",
       "0   20200101   3 2020-01-01 02:00:00   1.290570  2.124926  165.270680   \n",
       "0   20200101   4 2020-01-01 03:00:00   0.933730  2.361392  148.884604   \n",
       "0   20200101   5 2020-01-01 04:00:00   0.823914  2.361392  138.477112   \n",
       "..       ...  ..                 ...        ...       ...         ...   \n",
       "0   20210526  20 2021-05-26 19:00:00  10.609756  4.361392  272.364660   \n",
       "0   20210526  21 2021-05-26 20:00:00  10.434742  4.249853  265.978584   \n",
       "0   20210526  22 2021-05-26 21:00:00  10.401339  4.847711  275.978584   \n",
       "0   20210526  23 2021-05-26 22:00:00  10.140214  4.722785  282.364660   \n",
       "0   20210526  24 2021-05-26 23:00:00   9.883432  4.486319  272.364660   \n",
       "\n",
       "                Q             DR             RH          U  \n",
       "0   7.139165e-318  7.139165e-318  7.139165e-318  99.402142  \n",
       "0   7.139165e-318  7.139165e-318  7.139165e-318  99.402142  \n",
       "0   7.139165e-318  7.139165e-318  7.139165e-318  99.638608  \n",
       "0   7.139165e-318  7.139165e-318  7.139165e-318  99.638608  \n",
       "0   7.139165e-318  7.139165e-318  7.139165e-318  99.277215  \n",
       "..            ...            ...            ...        ...  \n",
       "0    1.000000e+00   7.473521e+00   3.044017e+00  91.625221  \n",
       "0   7.139165e-318   8.750736e+00   8.577620e+00  94.500294  \n",
       "0   7.139165e-318   9.875074e+00   2.023438e+01  93.875074  \n",
       "0   7.139165e-318   1.000000e+01   1.738431e+01  94.000000  \n",
       "0   7.139165e-318   8.344738e+00   7.746879e+00  93.763534  \n",
       "\n",
       "[12288 rows x 10 columns]"
      ]
     },
     "execution_count": 263,
     "metadata": {},
     "output_type": "execute_result"
    }
   ],
   "source": [
    "df_result = pd.DataFrame()\n",
    "for datetime_index in tqdm.tqdm(datetime_combinations.index):\n",
    "    \n",
    "    datetime_item = datetime_combinations.loc[datetime_index]\n",
    "    \n",
    "    m = (df_combined['YYYYMMDD'] == datetime_item['YYYYMMDD']) & (df_combined['HH'] == datetime_item['HH'])\n",
    "    df_subset = pd.merge(df_combined.loc[m], df_closest_stations, on='STN')\n",
    "    \n",
    "    df_result_row = pd.DataFrame({'YYYYMMDD':[datetime_item['YYYYMMDD']], \n",
    "                                  'HH':[datetime_item['HH']],\n",
    "                                  'datetime': dt.datetime(int(str(datetime_item['YYYYMMDD'])[:4]), \n",
    "                                                          int(str(datetime_item['YYYYMMDD'])[4:6]), \n",
    "                                                          int(str(datetime_item['YYYYMMDD'])[6:8]),\n",
    "                                                          datetime_item['HH']-1,\n",
    "                                                          0,\n",
    "                                                          0\n",
    "                                  )}\n",
    "                                )\n",
    "\n",
    "    for metric in metrics:        \n",
    "        if df_subset[metric].dropna().shape[0] == 3:\n",
    "            df_result_row[metric] = _fit_metric(df_subset, lon, lat, metric)\n",
    "        \n",
    "    df_result = pd.concat([df_result, df_result_row])\n",
    "    \n",
    "    \n",
    "    \n",
    "    \n",
    "df_result"
   ]
  },
  {
   "cell_type": "code",
   "execution_count": 264,
   "metadata": {
    "ExecuteTime": {
     "end_time": "2021-05-27T14:57:52.476423Z",
     "start_time": "2021-05-27T14:57:50.520419Z"
    }
   },
   "outputs": [
    {
     "data": {
      "text/plain": [
       "<AxesSubplot:xlabel='datetime'>"
      ]
     },
     "execution_count": 264,
     "metadata": {},
     "output_type": "execute_result"
    },
    {
     "data": {
      "text/plain": [
       "Text(0.5, 1.0, 'T')"
      ]
     },
     "execution_count": 264,
     "metadata": {},
     "output_type": "execute_result"
    },
    {
     "data": {
      "text/plain": [
       "<AxesSubplot:xlabel='datetime'>"
      ]
     },
     "execution_count": 264,
     "metadata": {},
     "output_type": "execute_result"
    },
    {
     "data": {
      "text/plain": [
       "Text(0.5, 1.0, 'FH')"
      ]
     },
     "execution_count": 264,
     "metadata": {},
     "output_type": "execute_result"
    },
    {
     "data": {
      "text/plain": [
       "<AxesSubplot:xlabel='datetime'>"
      ]
     },
     "execution_count": 264,
     "metadata": {},
     "output_type": "execute_result"
    },
    {
     "data": {
      "text/plain": [
       "Text(0.5, 1.0, 'DD')"
      ]
     },
     "execution_count": 264,
     "metadata": {},
     "output_type": "execute_result"
    },
    {
     "data": {
      "text/plain": [
       "<AxesSubplot:xlabel='datetime'>"
      ]
     },
     "execution_count": 264,
     "metadata": {},
     "output_type": "execute_result"
    },
    {
     "data": {
      "text/plain": [
       "Text(0.5, 1.0, 'Q')"
      ]
     },
     "execution_count": 264,
     "metadata": {},
     "output_type": "execute_result"
    },
    {
     "data": {
      "text/plain": [
       "<AxesSubplot:xlabel='datetime'>"
      ]
     },
     "execution_count": 264,
     "metadata": {},
     "output_type": "execute_result"
    },
    {
     "data": {
      "text/plain": [
       "Text(0.5, 1.0, 'DR')"
      ]
     },
     "execution_count": 264,
     "metadata": {},
     "output_type": "execute_result"
    },
    {
     "data": {
      "text/plain": [
       "<AxesSubplot:xlabel='datetime'>"
      ]
     },
     "execution_count": 264,
     "metadata": {},
     "output_type": "execute_result"
    },
    {
     "data": {
      "text/plain": [
       "Text(0.5, 1.0, 'RH')"
      ]
     },
     "execution_count": 264,
     "metadata": {},
     "output_type": "execute_result"
    },
    {
     "data": {
      "text/plain": [
       "<AxesSubplot:xlabel='datetime'>"
      ]
     },
     "execution_count": 264,
     "metadata": {},
     "output_type": "execute_result"
    },
    {
     "data": {
      "text/plain": [
       "Text(0.5, 1.0, 'U')"
      ]
     },
     "execution_count": 264,
     "metadata": {},
     "output_type": "execute_result"
    },
    {
     "data": {
      "image/png": "[encoded data removed]",
      "text/plain": [
       "<Figure size 432x288 with 1 Axes>"
      ]
     },
     "metadata": {
      "needs_background": "light"
     },
     "output_type": "display_data"
    },
    {
     "data": {
      "image/png": "[encoded data removed]",
      "text/plain": [
       "<Figure size 432x288 with 1 Axes>"
      ]
     },
     "metadata": {
      "needs_background": "light"
     },
     "output_type": "display_data"
    },
    {
     "data": {
      "image/png": "[encoded data removed]",
      "text/plain": [
       "<Figure size 432x288 with 1 Axes>"
      ]
     },
     "metadata": {
      "needs_background": "light"
     },
     "output_type": "display_data"
    },
    {
     "data": {
      "image/png": "[encoded data removed]",
      "text/plain": [
       "<Figure size 432x288 with 1 Axes>"
      ]
     },
     "metadata": {
      "needs_background": "light"
     },
     "output_type": "display_data"
    },
    {
     "data": {
      "image/png": "[encoded data removed]",
      "text/plain": [
       "<Figure size 432x288 with 1 Axes>"
      ]
     },
     "metadata": {
      "needs_background": "light"
     },
     "output_type": "display_data"
    },
    {
     "data": {
      "image/png": "[encoded data removed]",
      "text/plain": [
       "<Figure size 432x288 with 1 Axes>"
      ]
     },
     "metadata": {
      "needs_background": "light"
     },
     "output_type": "display_data"
    },
    {
     "data": {
      "text/plain": [
       "<Figure size 432x288 with 0 Axes>"
      ]
     },
     "metadata": {},
     "output_type": "display_data"
    },
    {
     "data": {
      "image/png": "[encoded data removed]",
      "text/plain": [
       "<Figure size 432x288 with 1 Axes>"
      ]
     },
     "metadata": {
      "needs_background": "light"
     },
     "output_type": "display_data"
    }
   ],
   "source": [
    "for metric in metrics: \n",
    "    fig = pylab.figure();\n",
    "    \n",
    "    try:\n",
    "        df_result.set_index('datetime')[metric].plot();\n",
    "        pylab.title(metric);\n",
    "    except:\n",
    "        pass"
   ]
  },
  {
   "cell_type": "code",
   "execution_count": null,
   "metadata": {},
   "outputs": [],
   "source": []
  }
 ],
 "metadata": {
  "kernelspec": {
   "display_name": "Python 3",
   "language": "python",
   "name": "python3"
  },
  "language_info": {
   "codemirror_mode": {
    "name": "ipython",
    "version": 3
   },
   "file_extension": ".py",
   "mimetype": "text/x-python",
   "name": "python",
   "nbconvert_exporter": "python",
   "pygments_lexer": "ipython3",
   "version": "3.9.0"
  }
 },
 "nbformat": 4,
 "nbformat_minor": 4
}
